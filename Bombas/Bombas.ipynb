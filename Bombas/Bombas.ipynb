{
  "cells": [
    {
      "cell_type": "markdown",
      "metadata": {
        "id": "view-in-github",
        "colab_type": "text"
      },
      "source": [
        "<a href=\"https://colab.research.google.com/github/rjara001/MachineLearning/blob/main/Bombas/Bombas.ipynb\" target=\"_parent\"><img src=\"https://colab.research.google.com/assets/colab-badge.svg\" alt=\"Open In Colab\"/></a>"
      ]
    },
    {
      "cell_type": "code",
      "execution_count": null,
      "metadata": {
        "id": "l8gvoqUZXAhZ"
      },
      "outputs": [],
      "source": [
        "import numpy as np\n",
        "import pandas as pd\n",
        "import seaborn as sn\n",
        "import matplotlib.pyplot as plt\n",
        "import xgboost as xgb"
      ]
    },
    {
      "cell_type": "code",
      "execution_count": null,
      "metadata": {
        "id": "aGmV1Lr9jowo"
      },
      "outputs": [],
      "source": [
        "from sklearn.preprocessing import OneHotEncoder\n",
        "from sklearn.compose import ColumnTransformer\n",
        "from sklearn.model_selection import cross_val_score\n",
        "from sklearn.model_selection import cross_val_predict\n",
        "from sklearn.model_selection import KFold\n",
        "from sklearn.model_selection import GridSearchCV, RandomizedSearchCV"
      ]
    },
    {
      "cell_type": "code",
      "execution_count": null,
      "metadata": {
        "id": "x-4lap4WXAhp"
      },
      "outputs": [],
      "source": [
        "import warnings\n",
        "warnings.simplefilter(\"ignore\")"
      ]
    },
    {
      "cell_type": "code",
      "execution_count": null,
      "metadata": {
        "colab": {
          "base_uri": "https://localhost:8080/"
        },
        "id": "og_DH9PBXAhv",
        "outputId": "7fd36b98-7d9d-4cbd-a65e-4235a07b95a8"
      },
      "outputs": [
        {
          "name": "stdout",
          "output_type": "stream",
          "text": [
            "Drive already mounted at /content/drive; to attempt to forcibly remount, call drive.mount(\"/content/drive\", force_remount=True).\n"
          ]
        }
      ],
      "source": [
        "from google.colab import drive\n",
        "drive.mount('/content/drive')\n",
        "\n",
        "data = pd.read_csv('/content/drive/My Drive/Data/monica.csv', sep=',')"
      ]
    },
    {
      "cell_type": "code",
      "execution_count": null,
      "metadata": {
        "colab": {
          "base_uri": "https://localhost:8080/",
          "height": 363
        },
        "id": "JgTiwAQnXAh0",
        "outputId": "bd70710e-c01c-4c8b-deec-104248a77f9f"
      },
      "outputs": [
        {
          "data": {
            "text/html": [
              "\n",
              "  <div id=\"df-6c6bc848-4089-4ac5-a03d-54c4e7e04ac8\">\n",
              "    <div class=\"colab-df-container\">\n",
              "      <div>\n",
              "<style scoped>\n",
              "    .dataframe tbody tr th:only-of-type {\n",
              "        vertical-align: middle;\n",
              "    }\n",
              "\n",
              "    .dataframe tbody tr th {\n",
              "        vertical-align: top;\n",
              "    }\n",
              "\n",
              "    .dataframe thead th {\n",
              "        text-align: right;\n",
              "    }\n",
              "</style>\n",
              "<table border=\"1\" class=\"dataframe\">\n",
              "  <thead>\n",
              "    <tr style=\"text-align: right;\">\n",
              "      <th></th>\n",
              "      <th>Unnamed: 0</th>\n",
              "      <th>outcome</th>\n",
              "      <th>sex</th>\n",
              "      <th>age</th>\n",
              "      <th>yronset</th>\n",
              "      <th>premi</th>\n",
              "      <th>smstat</th>\n",
              "      <th>diabetes</th>\n",
              "      <th>highbp</th>\n",
              "      <th>hichol</th>\n",
              "      <th>angina</th>\n",
              "      <th>stroke</th>\n",
              "      <th>hosp</th>\n",
              "    </tr>\n",
              "  </thead>\n",
              "  <tbody>\n",
              "    <tr>\n",
              "      <th>0</th>\n",
              "      <td>1</td>\n",
              "      <td>live</td>\n",
              "      <td>f</td>\n",
              "      <td>63</td>\n",
              "      <td>85</td>\n",
              "      <td>n</td>\n",
              "      <td>x</td>\n",
              "      <td>n</td>\n",
              "      <td>y</td>\n",
              "      <td>y</td>\n",
              "      <td>n</td>\n",
              "      <td>n</td>\n",
              "      <td>y</td>\n",
              "    </tr>\n",
              "    <tr>\n",
              "      <th>1</th>\n",
              "      <td>2</td>\n",
              "      <td>live</td>\n",
              "      <td>m</td>\n",
              "      <td>59</td>\n",
              "      <td>85</td>\n",
              "      <td>y</td>\n",
              "      <td>x</td>\n",
              "      <td>n</td>\n",
              "      <td>y</td>\n",
              "      <td>n</td>\n",
              "      <td>n</td>\n",
              "      <td>n</td>\n",
              "      <td>y</td>\n",
              "    </tr>\n",
              "    <tr>\n",
              "      <th>2</th>\n",
              "      <td>3</td>\n",
              "      <td>live</td>\n",
              "      <td>m</td>\n",
              "      <td>68</td>\n",
              "      <td>85</td>\n",
              "      <td>n</td>\n",
              "      <td>n</td>\n",
              "      <td>n</td>\n",
              "      <td>y</td>\n",
              "      <td>n</td>\n",
              "      <td>n</td>\n",
              "      <td>n</td>\n",
              "      <td>y</td>\n",
              "    </tr>\n",
              "    <tr>\n",
              "      <th>3</th>\n",
              "      <td>4</td>\n",
              "      <td>live</td>\n",
              "      <td>m</td>\n",
              "      <td>46</td>\n",
              "      <td>85</td>\n",
              "      <td>n</td>\n",
              "      <td>c</td>\n",
              "      <td>n</td>\n",
              "      <td>n</td>\n",
              "      <td>n</td>\n",
              "      <td>n</td>\n",
              "      <td>n</td>\n",
              "      <td>y</td>\n",
              "    </tr>\n",
              "    <tr>\n",
              "      <th>4</th>\n",
              "      <td>5</td>\n",
              "      <td>dead</td>\n",
              "      <td>m</td>\n",
              "      <td>48</td>\n",
              "      <td>85</td>\n",
              "      <td>n</td>\n",
              "      <td>n</td>\n",
              "      <td>y</td>\n",
              "      <td>n</td>\n",
              "      <td>n</td>\n",
              "      <td>y</td>\n",
              "      <td>n</td>\n",
              "      <td>y</td>\n",
              "    </tr>\n",
              "    <tr>\n",
              "      <th>5</th>\n",
              "      <td>6</td>\n",
              "      <td>live</td>\n",
              "      <td>f</td>\n",
              "      <td>55</td>\n",
              "      <td>85</td>\n",
              "      <td>n</td>\n",
              "      <td>c</td>\n",
              "      <td>n</td>\n",
              "      <td>y</td>\n",
              "      <td>y</td>\n",
              "      <td>n</td>\n",
              "      <td>n</td>\n",
              "      <td>y</td>\n",
              "    </tr>\n",
              "    <tr>\n",
              "      <th>6</th>\n",
              "      <td>7</td>\n",
              "      <td>live</td>\n",
              "      <td>m</td>\n",
              "      <td>56</td>\n",
              "      <td>85</td>\n",
              "      <td>n</td>\n",
              "      <td>x</td>\n",
              "      <td>n</td>\n",
              "      <td>y</td>\n",
              "      <td>n</td>\n",
              "      <td>n</td>\n",
              "      <td>n</td>\n",
              "      <td>y</td>\n",
              "    </tr>\n",
              "    <tr>\n",
              "      <th>7</th>\n",
              "      <td>8</td>\n",
              "      <td>live</td>\n",
              "      <td>f</td>\n",
              "      <td>68</td>\n",
              "      <td>85</td>\n",
              "      <td>y</td>\n",
              "      <td>nk</td>\n",
              "      <td>nk</td>\n",
              "      <td>y</td>\n",
              "      <td>nk</td>\n",
              "      <td>y</td>\n",
              "      <td>n</td>\n",
              "      <td>y</td>\n",
              "    </tr>\n",
              "    <tr>\n",
              "      <th>8</th>\n",
              "      <td>9</td>\n",
              "      <td>live</td>\n",
              "      <td>m</td>\n",
              "      <td>69</td>\n",
              "      <td>85</td>\n",
              "      <td>n</td>\n",
              "      <td>n</td>\n",
              "      <td>n</td>\n",
              "      <td>y</td>\n",
              "      <td>y</td>\n",
              "      <td>n</td>\n",
              "      <td>n</td>\n",
              "      <td>y</td>\n",
              "    </tr>\n",
              "    <tr>\n",
              "      <th>9</th>\n",
              "      <td>10</td>\n",
              "      <td>live</td>\n",
              "      <td>f</td>\n",
              "      <td>64</td>\n",
              "      <td>85</td>\n",
              "      <td>n</td>\n",
              "      <td>x</td>\n",
              "      <td>n</td>\n",
              "      <td>y</td>\n",
              "      <td>n</td>\n",
              "      <td>y</td>\n",
              "      <td>n</td>\n",
              "      <td>y</td>\n",
              "    </tr>\n",
              "  </tbody>\n",
              "</table>\n",
              "</div>\n",
              "      <button class=\"colab-df-convert\" onclick=\"convertToInteractive('df-6c6bc848-4089-4ac5-a03d-54c4e7e04ac8')\"\n",
              "              title=\"Convert this dataframe to an interactive table.\"\n",
              "              style=\"display:none;\">\n",
              "        \n",
              "  <svg xmlns=\"http://www.w3.org/2000/svg\" height=\"24px\"viewBox=\"0 0 24 24\"\n",
              "       width=\"24px\">\n",
              "    <path d=\"M0 0h24v24H0V0z\" fill=\"none\"/>\n",
              "    <path d=\"M18.56 5.44l.94 2.06.94-2.06 2.06-.94-2.06-.94-.94-2.06-.94 2.06-2.06.94zm-11 1L8.5 8.5l.94-2.06 2.06-.94-2.06-.94L8.5 2.5l-.94 2.06-2.06.94zm10 10l.94 2.06.94-2.06 2.06-.94-2.06-.94-.94-2.06-.94 2.06-2.06.94z\"/><path d=\"M17.41 7.96l-1.37-1.37c-.4-.4-.92-.59-1.43-.59-.52 0-1.04.2-1.43.59L10.3 9.45l-7.72 7.72c-.78.78-.78 2.05 0 2.83L4 21.41c.39.39.9.59 1.41.59.51 0 1.02-.2 1.41-.59l7.78-7.78 2.81-2.81c.8-.78.8-2.07 0-2.86zM5.41 20L4 18.59l7.72-7.72 1.47 1.35L5.41 20z\"/>\n",
              "  </svg>\n",
              "      </button>\n",
              "      \n",
              "  <style>\n",
              "    .colab-df-container {\n",
              "      display:flex;\n",
              "      flex-wrap:wrap;\n",
              "      gap: 12px;\n",
              "    }\n",
              "\n",
              "    .colab-df-convert {\n",
              "      background-color: #E8F0FE;\n",
              "      border: none;\n",
              "      border-radius: 50%;\n",
              "      cursor: pointer;\n",
              "      display: none;\n",
              "      fill: #1967D2;\n",
              "      height: 32px;\n",
              "      padding: 0 0 0 0;\n",
              "      width: 32px;\n",
              "    }\n",
              "\n",
              "    .colab-df-convert:hover {\n",
              "      background-color: #E2EBFA;\n",
              "      box-shadow: 0px 1px 2px rgba(60, 64, 67, 0.3), 0px 1px 3px 1px rgba(60, 64, 67, 0.15);\n",
              "      fill: #174EA6;\n",
              "    }\n",
              "\n",
              "    [theme=dark] .colab-df-convert {\n",
              "      background-color: #3B4455;\n",
              "      fill: #D2E3FC;\n",
              "    }\n",
              "\n",
              "    [theme=dark] .colab-df-convert:hover {\n",
              "      background-color: #434B5C;\n",
              "      box-shadow: 0px 1px 3px 1px rgba(0, 0, 0, 0.15);\n",
              "      filter: drop-shadow(0px 1px 2px rgba(0, 0, 0, 0.3));\n",
              "      fill: #FFFFFF;\n",
              "    }\n",
              "  </style>\n",
              "\n",
              "      <script>\n",
              "        const buttonEl =\n",
              "          document.querySelector('#df-6c6bc848-4089-4ac5-a03d-54c4e7e04ac8 button.colab-df-convert');\n",
              "        buttonEl.style.display =\n",
              "          google.colab.kernel.accessAllowed ? 'block' : 'none';\n",
              "\n",
              "        async function convertToInteractive(key) {\n",
              "          const element = document.querySelector('#df-6c6bc848-4089-4ac5-a03d-54c4e7e04ac8');\n",
              "          const dataTable =\n",
              "            await google.colab.kernel.invokeFunction('convertToInteractive',\n",
              "                                                     [key], {});\n",
              "          if (!dataTable) return;\n",
              "\n",
              "          const docLinkHtml = 'Like what you see? Visit the ' +\n",
              "            '<a target=\"_blank\" href=https://colab.research.google.com/notebooks/data_table.ipynb>data table notebook</a>'\n",
              "            + ' to learn more about interactive tables.';\n",
              "          element.innerHTML = '';\n",
              "          dataTable['output_type'] = 'display_data';\n",
              "          await google.colab.output.renderOutput(dataTable, element);\n",
              "          const docLink = document.createElement('div');\n",
              "          docLink.innerHTML = docLinkHtml;\n",
              "          element.appendChild(docLink);\n",
              "        }\n",
              "      </script>\n",
              "    </div>\n",
              "  </div>\n",
              "  "
            ],
            "text/plain": [
              "   Unnamed: 0 outcome sex  age  yronset premi smstat diabetes highbp hichol  \\\n",
              "0           1    live   f   63       85     n      x        n      y      y   \n",
              "1           2    live   m   59       85     y      x        n      y      n   \n",
              "2           3    live   m   68       85     n      n        n      y      n   \n",
              "3           4    live   m   46       85     n      c        n      n      n   \n",
              "4           5    dead   m   48       85     n      n        y      n      n   \n",
              "5           6    live   f   55       85     n      c        n      y      y   \n",
              "6           7    live   m   56       85     n      x        n      y      n   \n",
              "7           8    live   f   68       85     y     nk       nk      y     nk   \n",
              "8           9    live   m   69       85     n      n        n      y      y   \n",
              "9          10    live   f   64       85     n      x        n      y      n   \n",
              "\n",
              "  angina stroke hosp  \n",
              "0      n      n    y  \n",
              "1      n      n    y  \n",
              "2      n      n    y  \n",
              "3      n      n    y  \n",
              "4      y      n    y  \n",
              "5      n      n    y  \n",
              "6      n      n    y  \n",
              "7      y      n    y  \n",
              "8      n      n    y  \n",
              "9      y      n    y  "
            ]
          },
          "execution_count": 5,
          "metadata": {},
          "output_type": "execute_result"
        }
      ],
      "source": [
        "data.head(10)"
      ]
    },
    {
      "cell_type": "code",
      "execution_count": null,
      "metadata": {
        "colab": {
          "base_uri": "https://localhost:8080/"
        },
        "id": "DiWfRrNqXAh_",
        "outputId": "72625bc3-5daf-41c8-d73c-d46051bd6ea6"
      },
      "outputs": [
        {
          "data": {
            "text/plain": [
              "Unnamed: 0    0\n",
              "outcome       0\n",
              "sex           0\n",
              "age           0\n",
              "yronset       0\n",
              "premi         0\n",
              "smstat        0\n",
              "diabetes      0\n",
              "highbp        0\n",
              "hichol        0\n",
              "angina        0\n",
              "stroke        0\n",
              "hosp          0\n",
              "dtype: int64"
            ]
          },
          "execution_count": 6,
          "metadata": {},
          "output_type": "execute_result"
        }
      ],
      "source": [
        "\n",
        "data.isnull().sum()"
      ]
    },
    {
      "cell_type": "code",
      "execution_count": null,
      "metadata": {
        "colab": {
          "base_uri": "https://localhost:8080/"
        },
        "id": "QFHgvKQvXAiN",
        "outputId": "34aac2d1-13e2-4d26-dc93-063d5ef79e0d"
      },
      "outputs": [
        {
          "data": {
            "text/plain": [
              "0"
            ]
          },
          "execution_count": 7,
          "metadata": {},
          "output_type": "execute_result"
        }
      ],
      "source": [
        "data = data.drop_duplicates()\n",
        "\n",
        "data.duplicated().sum()"
      ]
    },
    {
      "cell_type": "code",
      "execution_count": null,
      "metadata": {
        "colab": {
          "base_uri": "https://localhost:8080/"
        },
        "id": "fSlx-AOaXAiV",
        "outputId": "20e67583-ebec-4b3d-b4eb-a1ad6235c3be"
      },
      "outputs": [
        {
          "data": {
            "text/plain": [
              "(6367, 13)"
            ]
          },
          "execution_count": 8,
          "metadata": {},
          "output_type": "execute_result"
        }
      ],
      "source": [
        "data.shape"
      ]
    },
    {
      "cell_type": "code",
      "execution_count": null,
      "metadata": {
        "colab": {
          "base_uri": "https://localhost:8080/"
        },
        "id": "6wrTbq4IXAie",
        "outputId": "e4a926b0-f034-4b21-c81f-40e900d41d82"
      },
      "outputs": [
        {
          "name": "stdout",
          "output_type": "stream",
          "text": [
            "<class 'pandas.core.frame.DataFrame'>\n",
            "Int64Index: 6367 entries, 0 to 6366\n",
            "Data columns (total 13 columns):\n",
            " #   Column      Non-Null Count  Dtype \n",
            "---  ------      --------------  ----- \n",
            " 0   Unnamed: 0  6367 non-null   int64 \n",
            " 1   outcome     6367 non-null   object\n",
            " 2   sex         6367 non-null   object\n",
            " 3   age         6367 non-null   int64 \n",
            " 4   yronset     6367 non-null   int64 \n",
            " 5   premi       6367 non-null   object\n",
            " 6   smstat      6367 non-null   object\n",
            " 7   diabetes    6367 non-null   object\n",
            " 8   highbp      6367 non-null   object\n",
            " 9   hichol      6367 non-null   object\n",
            " 10  angina      6367 non-null   object\n",
            " 11  stroke      6367 non-null   object\n",
            " 12  hosp        6367 non-null   object\n",
            "dtypes: int64(3), object(10)\n",
            "memory usage: 696.4+ KB\n"
          ]
        }
      ],
      "source": [
        "data.info()"
      ]
    },
    {
      "cell_type": "code",
      "execution_count": null,
      "metadata": {
        "colab": {
          "base_uri": "https://localhost:8080/",
          "height": 301
        },
        "id": "oJemIYSUXAim",
        "outputId": "c02b43ce-61e8-4387-c995-68d2f441ade3"
      },
      "outputs": [
        {
          "data": {
            "text/html": [
              "\n",
              "  <div id=\"df-9e3ee5c7-a7b9-4dd1-86a7-3bda1755c339\">\n",
              "    <div class=\"colab-df-container\">\n",
              "      <div>\n",
              "<style scoped>\n",
              "    .dataframe tbody tr th:only-of-type {\n",
              "        vertical-align: middle;\n",
              "    }\n",
              "\n",
              "    .dataframe tbody tr th {\n",
              "        vertical-align: top;\n",
              "    }\n",
              "\n",
              "    .dataframe thead th {\n",
              "        text-align: right;\n",
              "    }\n",
              "</style>\n",
              "<table border=\"1\" class=\"dataframe\">\n",
              "  <thead>\n",
              "    <tr style=\"text-align: right;\">\n",
              "      <th></th>\n",
              "      <th>Unnamed: 0</th>\n",
              "      <th>age</th>\n",
              "      <th>yronset</th>\n",
              "    </tr>\n",
              "  </thead>\n",
              "  <tbody>\n",
              "    <tr>\n",
              "      <th>count</th>\n",
              "      <td>6367.000000</td>\n",
              "      <td>6367.000000</td>\n",
              "      <td>6367.000000</td>\n",
              "    </tr>\n",
              "    <tr>\n",
              "      <th>mean</th>\n",
              "      <td>3184.000000</td>\n",
              "      <td>59.419978</td>\n",
              "      <td>88.749018</td>\n",
              "    </tr>\n",
              "    <tr>\n",
              "      <th>std</th>\n",
              "      <td>1838.138914</td>\n",
              "      <td>7.853923</td>\n",
              "      <td>2.558180</td>\n",
              "    </tr>\n",
              "    <tr>\n",
              "      <th>min</th>\n",
              "      <td>1.000000</td>\n",
              "      <td>35.000000</td>\n",
              "      <td>85.000000</td>\n",
              "    </tr>\n",
              "    <tr>\n",
              "      <th>25%</th>\n",
              "      <td>1592.500000</td>\n",
              "      <td>55.000000</td>\n",
              "      <td>87.000000</td>\n",
              "    </tr>\n",
              "    <tr>\n",
              "      <th>50%</th>\n",
              "      <td>3184.000000</td>\n",
              "      <td>61.000000</td>\n",
              "      <td>89.000000</td>\n",
              "    </tr>\n",
              "    <tr>\n",
              "      <th>75%</th>\n",
              "      <td>4775.500000</td>\n",
              "      <td>66.000000</td>\n",
              "      <td>91.000000</td>\n",
              "    </tr>\n",
              "    <tr>\n",
              "      <th>max</th>\n",
              "      <td>6367.000000</td>\n",
              "      <td>69.000000</td>\n",
              "      <td>93.000000</td>\n",
              "    </tr>\n",
              "  </tbody>\n",
              "</table>\n",
              "</div>\n",
              "      <button class=\"colab-df-convert\" onclick=\"convertToInteractive('df-9e3ee5c7-a7b9-4dd1-86a7-3bda1755c339')\"\n",
              "              title=\"Convert this dataframe to an interactive table.\"\n",
              "              style=\"display:none;\">\n",
              "        \n",
              "  <svg xmlns=\"http://www.w3.org/2000/svg\" height=\"24px\"viewBox=\"0 0 24 24\"\n",
              "       width=\"24px\">\n",
              "    <path d=\"M0 0h24v24H0V0z\" fill=\"none\"/>\n",
              "    <path d=\"M18.56 5.44l.94 2.06.94-2.06 2.06-.94-2.06-.94-.94-2.06-.94 2.06-2.06.94zm-11 1L8.5 8.5l.94-2.06 2.06-.94-2.06-.94L8.5 2.5l-.94 2.06-2.06.94zm10 10l.94 2.06.94-2.06 2.06-.94-2.06-.94-.94-2.06-.94 2.06-2.06.94z\"/><path d=\"M17.41 7.96l-1.37-1.37c-.4-.4-.92-.59-1.43-.59-.52 0-1.04.2-1.43.59L10.3 9.45l-7.72 7.72c-.78.78-.78 2.05 0 2.83L4 21.41c.39.39.9.59 1.41.59.51 0 1.02-.2 1.41-.59l7.78-7.78 2.81-2.81c.8-.78.8-2.07 0-2.86zM5.41 20L4 18.59l7.72-7.72 1.47 1.35L5.41 20z\"/>\n",
              "  </svg>\n",
              "      </button>\n",
              "      \n",
              "  <style>\n",
              "    .colab-df-container {\n",
              "      display:flex;\n",
              "      flex-wrap:wrap;\n",
              "      gap: 12px;\n",
              "    }\n",
              "\n",
              "    .colab-df-convert {\n",
              "      background-color: #E8F0FE;\n",
              "      border: none;\n",
              "      border-radius: 50%;\n",
              "      cursor: pointer;\n",
              "      display: none;\n",
              "      fill: #1967D2;\n",
              "      height: 32px;\n",
              "      padding: 0 0 0 0;\n",
              "      width: 32px;\n",
              "    }\n",
              "\n",
              "    .colab-df-convert:hover {\n",
              "      background-color: #E2EBFA;\n",
              "      box-shadow: 0px 1px 2px rgba(60, 64, 67, 0.3), 0px 1px 3px 1px rgba(60, 64, 67, 0.15);\n",
              "      fill: #174EA6;\n",
              "    }\n",
              "\n",
              "    [theme=dark] .colab-df-convert {\n",
              "      background-color: #3B4455;\n",
              "      fill: #D2E3FC;\n",
              "    }\n",
              "\n",
              "    [theme=dark] .colab-df-convert:hover {\n",
              "      background-color: #434B5C;\n",
              "      box-shadow: 0px 1px 3px 1px rgba(0, 0, 0, 0.15);\n",
              "      filter: drop-shadow(0px 1px 2px rgba(0, 0, 0, 0.3));\n",
              "      fill: #FFFFFF;\n",
              "    }\n",
              "  </style>\n",
              "\n",
              "      <script>\n",
              "        const buttonEl =\n",
              "          document.querySelector('#df-9e3ee5c7-a7b9-4dd1-86a7-3bda1755c339 button.colab-df-convert');\n",
              "        buttonEl.style.display =\n",
              "          google.colab.kernel.accessAllowed ? 'block' : 'none';\n",
              "\n",
              "        async function convertToInteractive(key) {\n",
              "          const element = document.querySelector('#df-9e3ee5c7-a7b9-4dd1-86a7-3bda1755c339');\n",
              "          const dataTable =\n",
              "            await google.colab.kernel.invokeFunction('convertToInteractive',\n",
              "                                                     [key], {});\n",
              "          if (!dataTable) return;\n",
              "\n",
              "          const docLinkHtml = 'Like what you see? Visit the ' +\n",
              "            '<a target=\"_blank\" href=https://colab.research.google.com/notebooks/data_table.ipynb>data table notebook</a>'\n",
              "            + ' to learn more about interactive tables.';\n",
              "          element.innerHTML = '';\n",
              "          dataTable['output_type'] = 'display_data';\n",
              "          await google.colab.output.renderOutput(dataTable, element);\n",
              "          const docLink = document.createElement('div');\n",
              "          docLink.innerHTML = docLinkHtml;\n",
              "          element.appendChild(docLink);\n",
              "        }\n",
              "      </script>\n",
              "    </div>\n",
              "  </div>\n",
              "  "
            ],
            "text/plain": [
              "        Unnamed: 0          age      yronset\n",
              "count  6367.000000  6367.000000  6367.000000\n",
              "mean   3184.000000    59.419978    88.749018\n",
              "std    1838.138914     7.853923     2.558180\n",
              "min       1.000000    35.000000    85.000000\n",
              "25%    1592.500000    55.000000    87.000000\n",
              "50%    3184.000000    61.000000    89.000000\n",
              "75%    4775.500000    66.000000    91.000000\n",
              "max    6367.000000    69.000000    93.000000"
            ]
          },
          "execution_count": 10,
          "metadata": {},
          "output_type": "execute_result"
        }
      ],
      "source": [
        "data.describe()"
      ]
    },
    {
      "cell_type": "code",
      "execution_count": null,
      "metadata": {
        "id": "av1GKqHfXAiz"
      },
      "outputs": [],
      "source": [
        "''' Dependent Variable is rates greater than 70%\n",
        "First Step, binarize the reates to 1 or 0 '''\n",
        "\n",
        "df = data.copy();\n"
      ]
    },
    {
      "cell_type": "code",
      "execution_count": null,
      "metadata": {
        "colab": {
          "base_uri": "https://localhost:8080/"
        },
        "id": "AGKNYMI_XAjJ",
        "outputId": "8d6fe5c2-a223-4d24-9eb6-72ee373eb1eb"
      },
      "outputs": [
        {
          "data": {
            "text/plain": [
              "Index(['Unnamed: 0', 'outcome', 'sex', 'age', 'yronset', 'premi', 'smstat',\n",
              "       'diabetes', 'highbp', 'hichol', 'angina', 'stroke', 'hosp'],\n",
              "      dtype='object')"
            ]
          },
          "execution_count": 12,
          "metadata": {},
          "output_type": "execute_result"
        }
      ],
      "source": [
        "df.columns"
      ]
    },
    {
      "cell_type": "code",
      "execution_count": null,
      "metadata": {
        "id": "OIyKqzKWXAje"
      },
      "outputs": [],
      "source": [
        "df['b_outcome'] = (df[\"outcome\"] == 'live').astype(int)"
      ]
    },
    {
      "cell_type": "code",
      "execution_count": null,
      "metadata": {
        "id": "UJP3UUepjWti"
      },
      "outputs": [],
      "source": [
        "ctransformer = ColumnTransformer([\n",
        "    ('encoder', OneHotEncoder(drop='if_binary'), ['sex', 'premi', 'smstat','diabetes', 'highbp', 'hichol', 'angina', 'stroke', 'hosp'])\n",
        "], remainder='passthrough')"
      ]
    },
    {
      "cell_type": "code",
      "execution_count": null,
      "metadata": {
        "id": "38qi0xJ95Pfc"
      },
      "outputs": [],
      "source": [
        "new = pd.get_dummies(df, columns=['sex', 'premi', 'smstat','diabetes', 'highbp', 'hichol', 'angina', 'stroke', 'hosp'], drop_first=True)"
      ]
    },
    {
      "cell_type": "code",
      "execution_count": null,
      "metadata": {
        "colab": {
          "base_uri": "https://localhost:8080/"
        },
        "id": "buRvl2AQ5ivY",
        "outputId": "76192143-45ef-40f9-cf72-28ff18467704"
      },
      "outputs": [
        {
          "data": {
            "text/plain": [
              "(6367, 22)"
            ]
          },
          "execution_count": 16,
          "metadata": {},
          "output_type": "execute_result"
        }
      ],
      "source": [
        "new.shape"
      ]
    },
    {
      "cell_type": "code",
      "execution_count": null,
      "metadata": {
        "id": "FHYftglR5PKD"
      },
      "outputs": [],
      "source": [
        ""
      ]
    },
    {
      "cell_type": "code",
      "execution_count": null,
      "metadata": {
        "colab": {
          "base_uri": "https://localhost:8080/"
        },
        "id": "EpX6l4KyXAjj",
        "outputId": "04ee734b-1b26-49cd-e617-dcdee1c364d5"
      },
      "outputs": [
        {
          "data": {
            "text/plain": [
              "1    0.553636\n",
              "0    0.446364\n",
              "Name: b_outcome, dtype: float64"
            ]
          },
          "execution_count": 17,
          "metadata": {},
          "output_type": "execute_result"
        }
      ],
      "source": [
        "df.b_outcome.value_counts(normalize=True)"
      ]
    },
    {
      "cell_type": "code",
      "execution_count": null,
      "metadata": {
        "colab": {
          "base_uri": "https://localhost:8080/",
          "height": 262
        },
        "id": "53aT3xB_XAkM",
        "outputId": "6f9806e8-5cad-4cba-f12d-8f60d4728d81"
      },
      "outputs": [
        {
          "data": {
            "image/png": "[encoded data removed]",
            "text/plain": [
              "<Figure size 432x288 with 1 Axes>"
            ]
          },
          "metadata": {},
          "output_type": "display_data"
        }
      ],
      "source": [
        "df.b_outcome.value_counts().plot(kind='bar');"
      ]
    },
    {
      "cell_type": "code",
      "execution_count": null,
      "metadata": {
        "id": "L-kAmMlLXAkT"
      },
      "outputs": [],
      "source": [
        "from sklearn.linear_model import LogisticRegression\n",
        "from sklearn.metrics import accuracy_score"
      ]
    },
    {
      "cell_type": "code",
      "execution_count": null,
      "metadata": {
        "id": "1ySPCfO3XAkW"
      },
      "outputs": [],
      "source": [
        "df_clean = df.drop(['Unnamed: 0'], axis=1)"
      ]
    },
    {
      "cell_type": "code",
      "execution_count": null,
      "metadata": {
        "colab": {
          "base_uri": "https://localhost:8080/",
          "height": 363
        },
        "id": "BuRNn5suXAke",
        "outputId": "ab2797ff-715a-44d1-fdc5-9bb33a0de869"
      },
      "outputs": [
        {
          "data": {
            "text/html": [
              "\n",
              "  <div id=\"df-31d17f27-5e00-4991-a335-2cabefd75855\">\n",
              "    <div class=\"colab-df-container\">\n",
              "      <div>\n",
              "<style scoped>\n",
              "    .dataframe tbody tr th:only-of-type {\n",
              "        vertical-align: middle;\n",
              "    }\n",
              "\n",
              "    .dataframe tbody tr th {\n",
              "        vertical-align: top;\n",
              "    }\n",
              "\n",
              "    .dataframe thead th {\n",
              "        text-align: right;\n",
              "    }\n",
              "</style>\n",
              "<table border=\"1\" class=\"dataframe\">\n",
              "  <thead>\n",
              "    <tr style=\"text-align: right;\">\n",
              "      <th></th>\n",
              "      <th>outcome</th>\n",
              "      <th>sex</th>\n",
              "      <th>age</th>\n",
              "      <th>yronset</th>\n",
              "      <th>premi</th>\n",
              "      <th>smstat</th>\n",
              "      <th>diabetes</th>\n",
              "      <th>highbp</th>\n",
              "      <th>hichol</th>\n",
              "      <th>angina</th>\n",
              "      <th>stroke</th>\n",
              "      <th>hosp</th>\n",
              "      <th>b_outcome</th>\n",
              "    </tr>\n",
              "  </thead>\n",
              "  <tbody>\n",
              "    <tr>\n",
              "      <th>0</th>\n",
              "      <td>live</td>\n",
              "      <td>f</td>\n",
              "      <td>63</td>\n",
              "      <td>85</td>\n",
              "      <td>n</td>\n",
              "      <td>x</td>\n",
              "      <td>n</td>\n",
              "      <td>y</td>\n",
              "      <td>y</td>\n",
              "      <td>n</td>\n",
              "      <td>n</td>\n",
              "      <td>y</td>\n",
              "      <td>1</td>\n",
              "    </tr>\n",
              "    <tr>\n",
              "      <th>1</th>\n",
              "      <td>live</td>\n",
              "      <td>m</td>\n",
              "      <td>59</td>\n",
              "      <td>85</td>\n",
              "      <td>y</td>\n",
              "      <td>x</td>\n",
              "      <td>n</td>\n",
              "      <td>y</td>\n",
              "      <td>n</td>\n",
              "      <td>n</td>\n",
              "      <td>n</td>\n",
              "      <td>y</td>\n",
              "      <td>1</td>\n",
              "    </tr>\n",
              "    <tr>\n",
              "      <th>2</th>\n",
              "      <td>live</td>\n",
              "      <td>m</td>\n",
              "      <td>68</td>\n",
              "      <td>85</td>\n",
              "      <td>n</td>\n",
              "      <td>n</td>\n",
              "      <td>n</td>\n",
              "      <td>y</td>\n",
              "      <td>n</td>\n",
              "      <td>n</td>\n",
              "      <td>n</td>\n",
              "      <td>y</td>\n",
              "      <td>1</td>\n",
              "    </tr>\n",
              "    <tr>\n",
              "      <th>3</th>\n",
              "      <td>live</td>\n",
              "      <td>m</td>\n",
              "      <td>46</td>\n",
              "      <td>85</td>\n",
              "      <td>n</td>\n",
              "      <td>c</td>\n",
              "      <td>n</td>\n",
              "      <td>n</td>\n",
              "      <td>n</td>\n",
              "      <td>n</td>\n",
              "      <td>n</td>\n",
              "      <td>y</td>\n",
              "      <td>1</td>\n",
              "    </tr>\n",
              "    <tr>\n",
              "      <th>4</th>\n",
              "      <td>dead</td>\n",
              "      <td>m</td>\n",
              "      <td>48</td>\n",
              "      <td>85</td>\n",
              "      <td>n</td>\n",
              "      <td>n</td>\n",
              "      <td>y</td>\n",
              "      <td>n</td>\n",
              "      <td>n</td>\n",
              "      <td>y</td>\n",
              "      <td>n</td>\n",
              "      <td>y</td>\n",
              "      <td>0</td>\n",
              "    </tr>\n",
              "    <tr>\n",
              "      <th>5</th>\n",
              "      <td>live</td>\n",
              "      <td>f</td>\n",
              "      <td>55</td>\n",
              "      <td>85</td>\n",
              "      <td>n</td>\n",
              "      <td>c</td>\n",
              "      <td>n</td>\n",
              "      <td>y</td>\n",
              "      <td>y</td>\n",
              "      <td>n</td>\n",
              "      <td>n</td>\n",
              "      <td>y</td>\n",
              "      <td>1</td>\n",
              "    </tr>\n",
              "    <tr>\n",
              "      <th>6</th>\n",
              "      <td>live</td>\n",
              "      <td>m</td>\n",
              "      <td>56</td>\n",
              "      <td>85</td>\n",
              "      <td>n</td>\n",
              "      <td>x</td>\n",
              "      <td>n</td>\n",
              "      <td>y</td>\n",
              "      <td>n</td>\n",
              "      <td>n</td>\n",
              "      <td>n</td>\n",
              "      <td>y</td>\n",
              "      <td>1</td>\n",
              "    </tr>\n",
              "    <tr>\n",
              "      <th>7</th>\n",
              "      <td>live</td>\n",
              "      <td>f</td>\n",
              "      <td>68</td>\n",
              "      <td>85</td>\n",
              "      <td>y</td>\n",
              "      <td>nk</td>\n",
              "      <td>nk</td>\n",
              "      <td>y</td>\n",
              "      <td>nk</td>\n",
              "      <td>y</td>\n",
              "      <td>n</td>\n",
              "      <td>y</td>\n",
              "      <td>1</td>\n",
              "    </tr>\n",
              "    <tr>\n",
              "      <th>8</th>\n",
              "      <td>live</td>\n",
              "      <td>m</td>\n",
              "      <td>69</td>\n",
              "      <td>85</td>\n",
              "      <td>n</td>\n",
              "      <td>n</td>\n",
              "      <td>n</td>\n",
              "      <td>y</td>\n",
              "      <td>y</td>\n",
              "      <td>n</td>\n",
              "      <td>n</td>\n",
              "      <td>y</td>\n",
              "      <td>1</td>\n",
              "    </tr>\n",
              "    <tr>\n",
              "      <th>9</th>\n",
              "      <td>live</td>\n",
              "      <td>f</td>\n",
              "      <td>64</td>\n",
              "      <td>85</td>\n",
              "      <td>n</td>\n",
              "      <td>x</td>\n",
              "      <td>n</td>\n",
              "      <td>y</td>\n",
              "      <td>n</td>\n",
              "      <td>y</td>\n",
              "      <td>n</td>\n",
              "      <td>y</td>\n",
              "      <td>1</td>\n",
              "    </tr>\n",
              "  </tbody>\n",
              "</table>\n",
              "</div>\n",
              "      <button class=\"colab-df-convert\" onclick=\"convertToInteractive('df-31d17f27-5e00-4991-a335-2cabefd75855')\"\n",
              "              title=\"Convert this dataframe to an interactive table.\"\n",
              "              style=\"display:none;\">\n",
              "        \n",
              "  <svg xmlns=\"http://www.w3.org/2000/svg\" height=\"24px\"viewBox=\"0 0 24 24\"\n",
              "       width=\"24px\">\n",
              "    <path d=\"M0 0h24v24H0V0z\" fill=\"none\"/>\n",
              "    <path d=\"M18.56 5.44l.94 2.06.94-2.06 2.06-.94-2.06-.94-.94-2.06-.94 2.06-2.06.94zm-11 1L8.5 8.5l.94-2.06 2.06-.94-2.06-.94L8.5 2.5l-.94 2.06-2.06.94zm10 10l.94 2.06.94-2.06 2.06-.94-2.06-.94-.94-2.06-.94 2.06-2.06.94z\"/><path d=\"M17.41 7.96l-1.37-1.37c-.4-.4-.92-.59-1.43-.59-.52 0-1.04.2-1.43.59L10.3 9.45l-7.72 7.72c-.78.78-.78 2.05 0 2.83L4 21.41c.39.39.9.59 1.41.59.51 0 1.02-.2 1.41-.59l7.78-7.78 2.81-2.81c.8-.78.8-2.07 0-2.86zM5.41 20L4 18.59l7.72-7.72 1.47 1.35L5.41 20z\"/>\n",
              "  </svg>\n",
              "      </button>\n",
              "      \n",
              "  <style>\n",
              "    .colab-df-container {\n",
              "      display:flex;\n",
              "      flex-wrap:wrap;\n",
              "      gap: 12px;\n",
              "    }\n",
              "\n",
              "    .colab-df-convert {\n",
              "      background-color: #E8F0FE;\n",
              "      border: none;\n",
              "      border-radius: 50%;\n",
              "      cursor: pointer;\n",
              "      display: none;\n",
              "      fill: #1967D2;\n",
              "      height: 32px;\n",
              "      padding: 0 0 0 0;\n",
              "      width: 32px;\n",
              "    }\n",
              "\n",
              "    .colab-df-convert:hover {\n",
              "      background-color: #E2EBFA;\n",
              "      box-shadow: 0px 1px 2px rgba(60, 64, 67, 0.3), 0px 1px 3px 1px rgba(60, 64, 67, 0.15);\n",
              "      fill: #174EA6;\n",
              "    }\n",
              "\n",
              "    [theme=dark] .colab-df-convert {\n",
              "      background-color: #3B4455;\n",
              "      fill: #D2E3FC;\n",
              "    }\n",
              "\n",
              "    [theme=dark] .colab-df-convert:hover {\n",
              "      background-color: #434B5C;\n",
              "      box-shadow: 0px 1px 3px 1px rgba(0, 0, 0, 0.15);\n",
              "      filter: drop-shadow(0px 1px 2px rgba(0, 0, 0, 0.3));\n",
              "      fill: #FFFFFF;\n",
              "    }\n",
              "  </style>\n",
              "\n",
              "      <script>\n",
              "        const buttonEl =\n",
              "          document.querySelector('#df-31d17f27-5e00-4991-a335-2cabefd75855 button.colab-df-convert');\n",
              "        buttonEl.style.display =\n",
              "          google.colab.kernel.accessAllowed ? 'block' : 'none';\n",
              "\n",
              "        async function convertToInteractive(key) {\n",
              "          const element = document.querySelector('#df-31d17f27-5e00-4991-a335-2cabefd75855');\n",
              "          const dataTable =\n",
              "            await google.colab.kernel.invokeFunction('convertToInteractive',\n",
              "                                                     [key], {});\n",
              "          if (!dataTable) return;\n",
              "\n",
              "          const docLinkHtml = 'Like what you see? Visit the ' +\n",
              "            '<a target=\"_blank\" href=https://colab.research.google.com/notebooks/data_table.ipynb>data table notebook</a>'\n",
              "            + ' to learn more about interactive tables.';\n",
              "          element.innerHTML = '';\n",
              "          dataTable['output_type'] = 'display_data';\n",
              "          await google.colab.output.renderOutput(dataTable, element);\n",
              "          const docLink = document.createElement('div');\n",
              "          docLink.innerHTML = docLinkHtml;\n",
              "          element.appendChild(docLink);\n",
              "        }\n",
              "      </script>\n",
              "    </div>\n",
              "  </div>\n",
              "  "
            ],
            "text/plain": [
              "  outcome sex  age  yronset premi smstat diabetes highbp hichol angina stroke  \\\n",
              "0    live   f   63       85     n      x        n      y      y      n      n   \n",
              "1    live   m   59       85     y      x        n      y      n      n      n   \n",
              "2    live   m   68       85     n      n        n      y      n      n      n   \n",
              "3    live   m   46       85     n      c        n      n      n      n      n   \n",
              "4    dead   m   48       85     n      n        y      n      n      y      n   \n",
              "5    live   f   55       85     n      c        n      y      y      n      n   \n",
              "6    live   m   56       85     n      x        n      y      n      n      n   \n",
              "7    live   f   68       85     y     nk       nk      y     nk      y      n   \n",
              "8    live   m   69       85     n      n        n      y      y      n      n   \n",
              "9    live   f   64       85     n      x        n      y      n      y      n   \n",
              "\n",
              "  hosp  b_outcome  \n",
              "0    y          1  \n",
              "1    y          1  \n",
              "2    y          1  \n",
              "3    y          1  \n",
              "4    y          0  \n",
              "5    y          1  \n",
              "6    y          1  \n",
              "7    y          1  \n",
              "8    y          1  \n",
              "9    y          1  "
            ]
          },
          "execution_count": 21,
          "metadata": {},
          "output_type": "execute_result"
        }
      ],
      "source": [
        "df_clean.head(10)"
      ]
    },
    {
      "cell_type": "code",
      "execution_count": null,
      "metadata": {
        "id": "Eevd5PI8XAkq"
      },
      "outputs": [],
      "source": [
        "\n",
        "# Separate input features (X) and target variable (y)\n",
        "y = df_clean.b_outcome\n",
        "X = df_clean.drop(['b_outcome', 'outcome'], axis=1)"
      ]
    },
    {
      "cell_type": "code",
      "execution_count": null,
      "metadata": {
        "colab": {
          "base_uri": "https://localhost:8080/"
        },
        "id": "wER05Rlks1t7",
        "outputId": "5db739fc-0a7b-4c1d-e450-5deef66a2471"
      },
      "outputs": [
        {
          "data": {
            "text/plain": [
              "0       live\n",
              "1       live\n",
              "2       live\n",
              "3       live\n",
              "4       dead\n",
              "        ... \n",
              "6362    live\n",
              "6363    live\n",
              "6364    live\n",
              "6365    live\n",
              "6366    live\n",
              "Name: outcome, Length: 6367, dtype: object"
            ]
          },
          "execution_count": 23,
          "metadata": {},
          "output_type": "execute_result"
        }
      ],
      "source": [
        "df_clean['outcome']"
      ]
    },
    {
      "cell_type": "code",
      "execution_count": null,
      "metadata": {
        "colab": {
          "base_uri": "https://localhost:8080/"
        },
        "id": "q5K9UUYhXAkw",
        "outputId": "ec715574-e4e6-482b-f0fc-da61a45b8742"
      },
      "outputs": [
        {
          "name": "stdout",
          "output_type": "stream",
          "text": [
            "(6367, 11)\n",
            "(6367,)\n",
            "1    0.553636\n",
            "0    0.446364\n",
            "Name: b_outcome, dtype: float64\n"
          ]
        }
      ],
      "source": [
        "print(X.shape)\n",
        "print(y.shape)\n",
        "print(y.value_counts(normalize=True))"
      ]
    },
    {
      "cell_type": "code",
      "execution_count": null,
      "metadata": {
        "id": "QKktO94PXAlb"
      },
      "outputs": [],
      "source": [
        "from sklearn.model_selection import train_test_split\n",
        "from sklearn.metrics import confusion_matrix\n",
        "from sklearn.metrics import cohen_kappa_score\n",
        "from imblearn.under_sampling import RandomUnderSampler\n",
        "from imblearn.over_sampling import SMOTE\n",
        "from imblearn.under_sampling import EditedNearestNeighbours\n"
      ]
    },
    {
      "cell_type": "code",
      "execution_count": null,
      "metadata": {
        "id": "DuN8fZC4XAll"
      },
      "outputs": [],
      "source": [
        "def boxplots_algorithms(results, names):\n",
        "    \n",
        "    plt.figure(figsize=(8,8))\n",
        "    plt.boxplot(results)\n",
        "    plt.xticks(range(1,len(names)+1), names)\n",
        "    plt.show()"
      ]
    },
    {
      "cell_type": "code",
      "execution_count": null,
      "metadata": {
        "id": "3qcnZPQaXAl1"
      },
      "outputs": [],
      "source": [
        "from sklearn.compose import ColumnTransformer\n",
        "from sklearn.preprocessing import RobustScaler\n",
        "from sklearn.impute import SimpleImputer\n",
        "from sklearn.preprocessing import MinMaxScaler, StandardScaler, Normalizer, Binarizer, RobustScaler\n",
        "from sklearn.model_selection import train_test_split\n",
        "from sklearn.pipeline import make_pipeline, Pipeline\n",
        "\n",
        "from sklearn.tree import DecisionTreeClassifier\n",
        "from sklearn.ensemble import RandomForestClassifier\n",
        "from sklearn.svm import SVC\n",
        "from sklearn.discriminant_analysis import LinearDiscriminantAnalysis\n",
        "from sklearn.naive_bayes import GaussianNB\n",
        "from sklearn.neighbors import KNeighborsClassifier\n",
        "from sklearn.ensemble import BaggingClassifier\n"
      ]
    },
    {
      "cell_type": "code",
      "execution_count": null,
      "metadata": {
        "id": "LjkcAKmiXAl7"
      },
      "outputs": [],
      "source": [
        "seed = 75"
      ]
    },
    {
      "cell_type": "code",
      "execution_count": null,
      "metadata": {
        "id": "U5jfCOWZ6zgJ"
      },
      "outputs": [],
      "source": [
        "def paint(models):\n",
        "  for modelo in models:\n",
        "    plt.plot(modelo.fpr,modelo.tpr,label=modelo.name + \", auc=\"+str(modelo.auc))\n",
        "    plt.legend(loc=4)\n",
        "  plt.legend()"
      ]
    },
    {
      "cell_type": "code",
      "execution_count": null,
      "metadata": {
        "id": "l2u_3zmaetgU"
      },
      "outputs": [],
      "source": [
        "# get a stacking ensemble of models\n",
        "def get_stacking():\n",
        "\t# define the base models\n",
        "\tlevel0 = list()\n",
        "\tlevel0.append(('lr', LogisticRegression(random_state=seed)))\n",
        "\tlevel0.append(('cart', DecisionTreeClassifier(random_state=seed)))\n",
        "\tlevel0.append(('svm', SVC(random_state=seed)))\n",
        "\tlevel0.append(('bayes', GaussianNB()))\n",
        "\t# define meta learner model\n",
        "\tlevel1 = LogisticRegression(random_state=seed)\n",
        "\t# define the stacking ensemble\n",
        "\n",
        "\treturn level0, level1"
      ]
    },
    {
      "cell_type": "code",
      "execution_count": null,
      "metadata": {
        "id": "YfP7FAy04kOH"
      },
      "outputs": [],
      "source": [
        "def create_model():\n",
        "# create model\n",
        "\tmodel = Sequential()\n",
        "\tmodel.add(Dense(26, input_dim=19, activation='relu'))\n",
        "\tmodel.add(Dense(1, activation='sigmoid'))\n",
        "\t# Compile model\n",
        "\tmodel.compile(loss='binary_crossentropy', optimizer='adam', metrics=['accuracy'])\n",
        "\treturn model"
      ]
    },
    {
      "cell_type": "code",
      "execution_count": null,
      "metadata": {
        "colab": {
          "background_save": true
        },
        "id": "haQxt6FcXAl9"
      },
      "outputs": [],
      "source": [
        "from sklearn.preprocessing import MinMaxScaler, StandardScaler, Normalizer, Binarizer, RobustScaler\n",
        "from sklearn.model_selection import train_test_split\n",
        "from sklearn.pipeline import make_pipeline, Pipeline\n",
        "\n",
        "from sklearn.linear_model import LogisticRegression\n",
        "from sklearn.tree import DecisionTreeClassifier\n",
        "from sklearn.ensemble import RandomForestClassifier\n",
        "from sklearn.svm import SVC\n",
        "from sklearn.discriminant_analysis import LinearDiscriminantAnalysis\n",
        "from sklearn.naive_bayes import GaussianNB\n",
        "from sklearn.neighbors import KNeighborsClassifier\n",
        "from sklearn.ensemble import BaggingClassifier\n",
        "from sklearn.ensemble import GradientBoostingClassifier\n",
        "from xgboost.sklearn import XGBClassifier\n",
        "from keras.wrappers.scikit_learn import KerasClassifier\n",
        "from keras.models import Sequential\n",
        "from keras.layers import Dense\n",
        "from sklearn.model_selection import StratifiedKFold\n",
        "from sklearn.metrics import roc_auc_score\n",
        "from sklearn.metrics import roc_curve\n",
        "from types import SimpleNamespace\n",
        "from sklearn.ensemble import StackingClassifier\n",
        "\n",
        "\n",
        "models = []\n",
        "models.append(('LR', LogisticRegression(random_state=seed, C=0.01, penalty='l2', solver='liblinear')))\n",
        "models.append(('SVC-R', SVC(kernel='rbf', random_state=seed, C=0.1, gamma=0.1)))\n",
        "models.append(('STK', StackingClassifier(estimators=get_stacking()[0], final_estimator=get_stacking()[1], cv=5)))\n",
        "models.append(('BC-SVC', SVC(kernel='poly', degree=8, random_state=seed)))\n",
        "models.append(('BC', BaggingClassifier(LogisticRegression(random_state=seed, C=0.01, penalty='l2', solver='newton-cg'),n_estimators = 40,random_state = seed)))\n",
        "models.append(('GB', GradientBoostingClassifier(random_state=seed)))\n",
        "models.append(('RFC', RandomForestClassifier(n_estimators = 10, random_state=seed)))\n",
        "models.append(('XGB', XGBClassifier(learning_rate=0.1, \n",
        "                                      n_estimators=10, \n",
        "                                      max_depth=5, \n",
        "                                      min_child_weight=2, \n",
        "                                      objective=\"binary:logistic\", \n",
        "                                      subsample=0.9, \n",
        "                                      colsample_bytree=0.8, \n",
        "                                      random_state=seed)))\n",
        "models.append(('KC', KerasClassifier(build_fn=create_model, epochs=10, batch_size=1, verbose=0)))\n",
        "\n",
        "\n",
        "\n",
        "# models.append(('SVM', SVC()))"
      ]
    },
    {
      "cell_type": "code",
      "execution_count": null,
      "metadata": {
        "id": "7ajmYVvFMY_r"
      },
      "outputs": [],
      "source": [
        "model = SVC()\n",
        "param_grid = {'clf__C': [0.1,1], 'clf__gamma': [1,0.1,0.01,0.001],'clf__kernel': ['rbf', 'poly', 'sigmoid']}\n",
        "\n",
        "scaler = RobustScaler()\n",
        "pipeline = Pipeline([\n",
        "    ('trans', ctransformer),\n",
        "    ('norm', scaler),\n",
        "    ('clf', model)\n",
        "])\n",
        "\n",
        "cv = KFold(n_splits=10, shuffle=True, random_state=seed)\n",
        "grid_search = GridSearchCV(estimator=pipeline, param_grid=param_grid, n_jobs=-1, cv=cv, scoring='accuracy',error_score=0)\n",
        "grid_result = grid_search.fit(X, y)\n",
        "# summarize results\n",
        "print(\"Best: %f using %s\" % (grid_result.best_score_, grid_result.best_params_))\n",
        "means = grid_result.cv_results_['mean_test_score']\n",
        "stds = grid_result.cv_results_['std_test_score']\n",
        "params = grid_result.cv_results_['params']\n",
        "for mean, stdev, param in zip(means, stds, params):\n",
        "    print(\"%f (%f) with: %r\" % (mean, stdev, param))"
      ]
    },
    {
      "cell_type": "code",
      "execution_count": null,
      "metadata": {
        "id": "ssLBHX8uXAmB"
      },
      "outputs": [],
      "source": [
        "results = []\n",
        "results_roc = []\n",
        "names = []\n",
        "importants = []\n",
        "\n",
        "name, model = models[0]\n",
        "    \n",
        "scaler = RobustScaler()\n",
        "pipeline = make_pipeline(ctransformer, model)\n",
        "\n",
        "cv_technique = KFold(n_splits=10, shuffle=True, random_state=seed)\n",
        "cv_results = cross_val_score(model, X=df_dummies, y=y, cv=cv_technique, scoring='accuracy', n_jobs=-1, error_score='raise')\n",
        "# proba = cross_val_predict(pipeline, X, y, cv=cv_technique, method='predict_proba')\n",
        "\n",
        "msg = \"%s: %f (%f)\" % (name, cv_results.mean(), cv_results.std())\n",
        "print(msg)\n",
        "\n",
        "results.append(cv_results)\n",
        "names.append(name)\n",
        "# importants.append(pd.DataFrame({'feature':list(X.columns),'feature_importance':[abs(i) for i in model.coef_[0]]}))\n",
        "\n",
        "pipeline.fit(X,y)\n",
        "resultado = pipeline.score(X, y)\n",
        "if hasattr(model, 'feature_importances_'):\n",
        "  importants.append(pd.DataFrame({'feature':list(pipeline[:-1].get_feature_names_out()),'feature_importance':[abs(i) for i in model.feature_importances_]}))\n",
        "if hasattr(model, 'coef_'):\n",
        "  importants.append(pd.DataFrame({'feature':list(pipeline[:-1].get_feature_names_out()),'feature_importance':[abs(i) for i in model.coef_[0]]}))\n",
        "\n",
        "y_pred = pipeline.predict(X)\n",
        "cm = confusion_matrix(y, y_pred)\n",
        "# y_pred_proba = pipeline.predict_proba(X)\n",
        "# fpr, tpr, _ = roc_curve(y.values,  y_pred_proba, pos_label=2)\n",
        "# auc = roc_auc_score(y, y_pred_proba)\n",
        "# results_roc.append( SimpleNamespace(fpr = fpr, tpr = tpr, auc = auc, name = name))\n",
        "\n",
        "# paint(results_roc)\n",
        "# plt.plot(fpr,tpr,label=\"data 1, auc=\"+str(auc))\n",
        "# plt.legend(loc=4)\n",
        "# plt.show()\n",
        "# boxplots_algorithms(results, names)\n",
        "importants"
      ]
    },
    {
      "cell_type": "code",
      "execution_count": null,
      "metadata": {
        "id": "iLt9zlCVXAmJ"
      },
      "outputs": [],
      "source": [
        "results = []\n",
        "names = []\n",
        "results_roc = []\n",
        "importants = []\n",
        "\n",
        "resultados_skb = list()\n",
        "\n",
        "for name, model in models:\n",
        "    \n",
        "    scaler = RobustScaler()\n",
        "    pipeline = make_pipeline(ctransformer,scaler,model)\n",
        "    \n",
        "    cv_technique = KFold(n_splits=10, shuffle=True, random_state=seed)\n",
        "    cv_results = cross_val_score(pipeline, X=X, y=y, cv=cv_technique, scoring='accuracy')\n",
        "    # proba = cross_val_predict(pipeline, X, y, cv=cv_technique, method='predict_proba')\n",
        "\n",
        "    msg = \"%s: %f (%f)\" % (name, cv_results.mean(), cv_results.std())\n",
        "    print(msg)\n",
        "    \n",
        "    results.append(cv_results)\n",
        "    names.append(name)\n",
        "\n",
        "    pipeline.fit(X,y)\n",
        "    resultado = pipeline.score(X, y)\n",
        "\n",
        "    if hasattr(model, 'feature_importances_'):\n",
        "      importants.append(pd.DataFrame({'feature':list(pipeline[:-1].get_feature_names_out()),'feature_importance':[abs(i) for i in model.feature_importances_]}))\n",
        "    if hasattr(model, 'coef_'):\n",
        "      importants.append(pd.DataFrame({'feature':list(pipeline[:-1].get_feature_names_out()),'feature_importance':[abs(i) for i in model.coef_[0]]}))\n",
        "\n",
        "\n",
        "    resultados_skb.append(resultado)\n",
        "    y_pred = pipeline.predict(X)\n",
        "    cm = confusion_matrix(y, y_pred)\n",
        "\n",
        "    # y_pred_proba = model.predict_proba(X)[::,1]\n",
        "    # fpr, tpr, _ = roc_curve(y,  y_pred_proba)\n",
        "    # auc = roc_auc_score(y, y_pred_proba)\n",
        " \n",
        "    # results_roc.append( SimpleNamespace(fpr = fpr, tpr = tpr, auc = auc, name = name))\n",
        "\n",
        " \n",
        "    print(cm)\n",
        "# paint(results_roc)\n",
        "boxplots_algorithms(results, names)\n"
      ]
    },
    {
      "cell_type": "code",
      "execution_count": null,
      "metadata": {
        "id": "HC959-vWFZ4x"
      },
      "outputs": [],
      "source": [
        "importants[0].merge(importants[0]).merge(importants[0]).merge(importants[0])"
      ]
    },
    {
      "cell_type": "code",
      "execution_count": null,
      "metadata": {
        "id": "_GRL61ou9N4p"
      },
      "outputs": [],
      "source": [
        "pd_importants = pd.concat(importants, axis=1)\n"
      ]
    },
    {
      "cell_type": "code",
      "execution_count": null,
      "metadata": {
        "id": "kfBwa9kcC4yu"
      },
      "outputs": [],
      "source": [
        "pd_importants.plot(kind=\"bar\", figsize=(20,10))"
      ]
    },
    {
      "cell_type": "code",
      "execution_count": null,
      "metadata": {
        "id": "YMzT0OptDiId"
      },
      "outputs": [],
      "source": [
        "df_dummies = pd.get_dummies(X, columns=['sex', 'premi', 'smstat','diabetes', 'highbp', 'hichol', 'angina', 'stroke', 'hosp'], drop_first=True)"
      ]
    },
    {
      "cell_type": "code",
      "execution_count": null,
      "metadata": {
        "id": "4ezyPciI-Uz8"
      },
      "outputs": [],
      "source": [
        "df_dummies.shape"
      ]
    },
    {
      "cell_type": "code",
      "execution_count": null,
      "metadata": {
        "id": "j72vncm0KScH"
      },
      "outputs": [],
      "source": [
        "from sklearn.feature_selection import SelectKBest\n",
        "from sklearn.feature_selection import f_classif\n",
        "from numpy import set_printoptions\n",
        "\n",
        "selector = SelectKBest(score_func=f_classif, k=10)\n",
        "fit = selector.fit(df_dummies, y)\n",
        "# summarize scores\n",
        "set_printoptions(precision=3)\n",
        "print(fit.scores_)\n",
        "features = fit.transform(df_dummies)\n",
        "# summarize selected features\n",
        "names = df_dummies.columns.values[selector.get_support()]\n",
        "scores = selector.scores_[selector.get_support()]\n",
        "names_scores = list(zip(names, scores))\n",
        "ns_df = pd.DataFrame(data = names_scores, columns=['Feat_names', 'F_Scores'])\n",
        "#Sort the dataframe for better visualization\n",
        "ns_df_sorted = ns_df.sort_values(['F_Scores', 'Feat_names'], ascending = [False, True])\n",
        "print(ns_df_sorted)"
      ]
    },
    {
      "cell_type": "code",
      "execution_count": null,
      "metadata": {
        "id": "JdEW6hoMcG2t"
      },
      "outputs": [],
      "source": [
        "model = LogisticRegression()\n",
        "param_solver = ['newton-cg', 'lbfgs', 'liblinear']\n",
        "param_range_C = [100, 10, 1.0, 0.1, 0.01]\n",
        "param_penalty =  ['l1', 'l2']\n",
        "\n",
        "grid_params_lr = [{'clf__penalty': param_penalty,\n",
        "        'clf__C': param_range_C,\n",
        "        'clf__solver': param_solver}] \n",
        "\n",
        "scaler = RobustScaler()\n",
        "pipeline = Pipeline([\n",
        "    ('trans', ctransformer),\n",
        "    ('norm', scaler),\n",
        "    ('clf', LogisticRegression())\n",
        "])\n",
        "\n",
        "cv = KFold(n_splits=10, shuffle=True, random_state=seed)\n",
        "grid_search = GridSearchCV(estimator=pipeline, param_grid=grid_params_lr, n_jobs=-1, cv=cv, scoring='accuracy',error_score=0)\n",
        "grid_result = grid_search.fit(X, y)\n",
        "# summarize results\n",
        "print(\"Best: %f using %s\" % (grid_result.best_score_, grid_result.best_params_))\n",
        "means = grid_result.cv_results_['mean_test_score']\n",
        "stds = grid_result.cv_results_['std_test_score']\n",
        "params = grid_result.cv_results_['params']\n",
        "for mean, stdev, param in zip(means, stds, params):\n",
        "    print(\"%f (%f) with: %r\" % (mean, stdev, param))"
      ]
    },
    {
      "cell_type": "code",
      "execution_count": null,
      "metadata": {
        "id": "fGg5Os5dGc8c"
      },
      "outputs": [],
      "source": [
        "# name, model = models[7]\n",
        "\n",
        "print(name)\n",
        "param_solver = ['newton-cg', 'lbfgs', 'liblinear']\n",
        "param_range_C = [100, 10, 1.0, 0.1, 0.01]\n",
        "param_penalty =  ['l1', 'l2']\n",
        "\n",
        "params = {'BC__n_estimators': [40, 42],\n",
        "        'BC__base_estimator__penalty': param_penalty,\n",
        "        'BC__base_estimator__C': param_range_C,\n",
        "        'BC__base_estimator__solver': param_solver}\n",
        "\n",
        "rl = LogisticRegression()\n",
        "bc = BaggingClassifier(base_estimator=rl, oob_score=True, random_state=1) #n_estimators=70, random_state=1)\n",
        "\n",
        "\n",
        "scaler = RobustScaler()\n",
        "pipeline = Pipeline([\n",
        "    ('trans', ctransformer),\n",
        "    ('norm', scaler),\n",
        "    ('BC', bc)\n",
        "])\n",
        "\n",
        "cv = KFold(n_splits=10, shuffle=True, random_state=seed)\n",
        "grid_search = GridSearchCV(estimator=pipeline, param_grid=params, n_jobs=-1, cv=cv, scoring='accuracy',error_score=0)\n",
        "grid_result = grid_search.fit(X, y)\n",
        "# summarize results\n",
        "print(\"Best: %f using %s\" % (grid_result.best_score_, grid_result.best_params_))\n",
        "means = grid_result.cv_results_['mean_test_score']\n",
        "stds = grid_result.cv_results_['std_test_score']\n",
        "params = grid_result.cv_results_['params']\n",
        "for mean, stdev, param in zip(means, stds, params):\n",
        "    print(\"%f (%f) with: %r\" % (mean, stdev, param))"
      ]
    },
    {
      "cell_type": "code",
      "execution_count": null,
      "metadata": {
        "id": "VWVTK1NRzR2C"
      },
      "outputs": [],
      "source": [
        "model = RandomForestClassifier()\n",
        "\n",
        "param_range = [9, 10]\n",
        "param_range_fl = [1.0, 0.5]\n",
        "\n",
        "grid_params = [{'clf__criterion': ['gini', 'entropy'],\n",
        "        'clf__max_depth': param_range,\n",
        "        'clf__min_samples_split': param_range[1:]}]\n",
        "\n",
        "scaler = RobustScaler()\n",
        "pipeline = Pipeline([\n",
        "    ('trans', ctransformer),\n",
        "    ('norm', scaler),\n",
        "    ('clf', model)\n",
        "])\n",
        "\n",
        "cv = KFold(n_splits=10, shuffle=True, random_state=seed)\n",
        "grid_search = GridSearchCV(estimator=pipeline, param_grid=grid_params, n_jobs=-1, cv=cv, scoring='accuracy',error_score=0)\n",
        "grid_result = grid_search.fit(X, y)\n",
        "# summarize results\n",
        "print(\"Best: %f using %s\" % (grid_result.best_score_, grid_result.best_params_))\n",
        "means = grid_result.cv_results_['mean_test_score']\n",
        "stds = grid_result.cv_results_['std_test_score']\n",
        "params = grid_result.cv_results_['params']\n",
        "for mean, stdev, param in zip(means, stds, params):\n",
        "    print(\"%f (%f) with: %r\" % (mean, stdev, param))"
      ]
    },
    {
      "cell_type": "code",
      "execution_count": null,
      "metadata": {
        "colab": {
          "background_save": true
        },
        "id": "65B9U0TBGc5q",
        "outputId": "ef1f2828-f90b-47c4-c401-52eed26af4ac"
      },
      "outputs": [
        {
          "name": "stdout",
          "output_type": "stream",
          "text": [
            "Best: 0.878909 using {'clf__learning_rate': 0.01, 'clf__max_depth': 3, 'clf__n_estimators': 500}\n",
            "0.553635 (0.011238) with: {'clf__learning_rate': 0.01, 'clf__max_depth': 1, 'clf__n_estimators': 5}\n",
            "0.855033 (0.014699) with: {'clf__learning_rate': 0.01, 'clf__max_depth': 1, 'clf__n_estimators': 50}\n",
            "0.855033 (0.014699) with: {'clf__learning_rate': 0.01, 'clf__max_depth': 1, 'clf__n_estimators': 250}\n",
            "0.878123 (0.013261) with: {'clf__learning_rate': 0.01, 'clf__max_depth': 1, 'clf__n_estimators': 500}\n",
            "0.553635 (0.011238) with: {'clf__learning_rate': 0.01, 'clf__max_depth': 3, 'clf__n_estimators': 5}\n",
            "0.877180 (0.013354) with: {'clf__learning_rate': 0.01, 'clf__max_depth': 3, 'clf__n_estimators': 50}\n",
            "0.878123 (0.013736) with: {'clf__learning_rate': 0.01, 'clf__max_depth': 3, 'clf__n_estimators': 250}\n",
            "0.878909 (0.013387) with: {'clf__learning_rate': 0.01, 'clf__max_depth': 3, 'clf__n_estimators': 500}\n",
            "0.553635 (0.011238) with: {'clf__learning_rate': 0.01, 'clf__max_depth': 5, 'clf__n_estimators': 5}\n",
            "0.876552 (0.012302) with: {'clf__learning_rate': 0.01, 'clf__max_depth': 5, 'clf__n_estimators': 50}\n",
            "0.877652 (0.012358) with: {'clf__learning_rate': 0.01, 'clf__max_depth': 5, 'clf__n_estimators': 250}\n",
            "0.877181 (0.009854) with: {'clf__learning_rate': 0.01, 'clf__max_depth': 5, 'clf__n_estimators': 500}\n",
            "0.553635 (0.011238) with: {'clf__learning_rate': 0.01, 'clf__max_depth': 7, 'clf__n_estimators': 5}\n",
            "0.873724 (0.013218) with: {'clf__learning_rate': 0.01, 'clf__max_depth': 7, 'clf__n_estimators': 50}\n",
            "0.875295 (0.011540) with: {'clf__learning_rate': 0.01, 'clf__max_depth': 7, 'clf__n_estimators': 250}\n",
            "0.874510 (0.012890) with: {'clf__learning_rate': 0.01, 'clf__max_depth': 7, 'clf__n_estimators': 500}\n",
            "0.553635 (0.011238) with: {'clf__learning_rate': 0.01, 'clf__max_depth': 9, 'clf__n_estimators': 5}\n",
            "0.872938 (0.011746) with: {'clf__learning_rate': 0.01, 'clf__max_depth': 9, 'clf__n_estimators': 50}\n",
            "0.871839 (0.009581) with: {'clf__learning_rate': 0.01, 'clf__max_depth': 9, 'clf__n_estimators': 250}\n",
            "0.866498 (0.010088) with: {'clf__learning_rate': 0.01, 'clf__max_depth': 9, 'clf__n_estimators': 500}\n",
            "0.855033 (0.014699) with: {'clf__learning_rate': 0.1, 'clf__max_depth': 1, 'clf__n_estimators': 5}\n",
            "0.877966 (0.013442) with: {'clf__learning_rate': 0.1, 'clf__max_depth': 1, 'clf__n_estimators': 50}\n",
            "0.878122 (0.013650) with: {'clf__learning_rate': 0.1, 'clf__max_depth': 1, 'clf__n_estimators': 250}\n",
            "0.878122 (0.013266) with: {'clf__learning_rate': 0.1, 'clf__max_depth': 1, 'clf__n_estimators': 500}\n",
            "0.877494 (0.013058) with: {'clf__learning_rate': 0.1, 'clf__max_depth': 3, 'clf__n_estimators': 5}\n",
            "0.878908 (0.013076) with: {'clf__learning_rate': 0.1, 'clf__max_depth': 3, 'clf__n_estimators': 50}\n",
            "0.877652 (0.012925) with: {'clf__learning_rate': 0.1, 'clf__max_depth': 3, 'clf__n_estimators': 250}\n",
            "0.875609 (0.012419) with: {'clf__learning_rate': 0.1, 'clf__max_depth': 3, 'clf__n_estimators': 500}\n",
            "0.876081 (0.012562) with: {'clf__learning_rate': 0.1, 'clf__max_depth': 5, 'clf__n_estimators': 5}\n",
            "0.877338 (0.010317) with: {'clf__learning_rate': 0.1, 'clf__max_depth': 5, 'clf__n_estimators': 50}\n",
            "0.867284 (0.013356) with: {'clf__learning_rate': 0.1, 'clf__max_depth': 5, 'clf__n_estimators': 250}\n",
            "0.857077 (0.012349) with: {'clf__learning_rate': 0.1, 'clf__max_depth': 5, 'clf__n_estimators': 500}\n",
            "0.874509 (0.012074) with: {'clf__learning_rate': 0.1, 'clf__max_depth': 7, 'clf__n_estimators': 5}\n",
            "0.874982 (0.013870) with: {'clf__learning_rate': 0.1, 'clf__max_depth': 7, 'clf__n_estimators': 50}\n",
            "0.849852 (0.012761) with: {'clf__learning_rate': 0.1, 'clf__max_depth': 7, 'clf__n_estimators': 250}\n",
            "0.840743 (0.012401) with: {'clf__learning_rate': 0.1, 'clf__max_depth': 7, 'clf__n_estimators': 500}\n",
            "0.872624 (0.009519) with: {'clf__learning_rate': 0.1, 'clf__max_depth': 9, 'clf__n_estimators': 5}\n",
            "0.868854 (0.008902) with: {'clf__learning_rate': 0.1, 'clf__max_depth': 9, 'clf__n_estimators': 50}\n",
            "0.844352 (0.010746) with: {'clf__learning_rate': 0.1, 'clf__max_depth': 9, 'clf__n_estimators': 250}\n",
            "0.841839 (0.011451) with: {'clf__learning_rate': 0.1, 'clf__max_depth': 9, 'clf__n_estimators': 500}\n",
            "0.878278 (0.014586) with: {'clf__learning_rate': 1, 'clf__max_depth': 1, 'clf__n_estimators': 5}\n",
            "0.877180 (0.013713) with: {'clf__learning_rate': 1, 'clf__max_depth': 1, 'clf__n_estimators': 50}\n",
            "0.877494 (0.012639) with: {'clf__learning_rate': 1, 'clf__max_depth': 1, 'clf__n_estimators': 250}\n",
            "0.877337 (0.012898) with: {'clf__learning_rate': 1, 'clf__max_depth': 1, 'clf__n_estimators': 500}\n",
            "0.878750 (0.010914) with: {'clf__learning_rate': 1, 'clf__max_depth': 3, 'clf__n_estimators': 5}\n",
            "0.870112 (0.011997) with: {'clf__learning_rate': 1, 'clf__max_depth': 3, 'clf__n_estimators': 50}\n",
            "0.856289 (0.011053) with: {'clf__learning_rate': 1, 'clf__max_depth': 3, 'clf__n_estimators': 250}\n",
            "0.849379 (0.011868) with: {'clf__learning_rate': 1, 'clf__max_depth': 3, 'clf__n_estimators': 500}\n",
            "0.871840 (0.009602) with: {'clf__learning_rate': 1, 'clf__max_depth': 5, 'clf__n_estimators': 5}\n",
            "0.846554 (0.012380) with: {'clf__learning_rate': 1, 'clf__max_depth': 5, 'clf__n_estimators': 50}\n",
            "0.832726 (0.014739) with: {'clf__learning_rate': 1, 'clf__max_depth': 5, 'clf__n_estimators': 250}\n",
            "0.830843 (0.015842) with: {'clf__learning_rate': 1, 'clf__max_depth': 5, 'clf__n_estimators': 500}\n",
            "0.859745 (0.008457) with: {'clf__learning_rate': 1, 'clf__max_depth': 7, 'clf__n_estimators': 5}\n",
            "0.831790 (0.010338) with: {'clf__learning_rate': 1, 'clf__max_depth': 7, 'clf__n_estimators': 50}\n",
            "0.828336 (0.009318) with: {'clf__learning_rate': 1, 'clf__max_depth': 7, 'clf__n_estimators': 250}\n",
            "0.824724 (0.020088) with: {'clf__learning_rate': 1, 'clf__max_depth': 7, 'clf__n_estimators': 500}\n",
            "0.848122 (0.011208) with: {'clf__learning_rate': 1, 'clf__max_depth': 9, 'clf__n_estimators': 5}\n",
            "0.832262 (0.010985) with: {'clf__learning_rate': 1, 'clf__max_depth': 9, 'clf__n_estimators': 50}\n",
            "0.833674 (0.007944) with: {'clf__learning_rate': 1, 'clf__max_depth': 9, 'clf__n_estimators': 250}\n",
            "0.832731 (0.011788) with: {'clf__learning_rate': 1, 'clf__max_depth': 9, 'clf__n_estimators': 500}\n",
            "0.144967 (0.014699) with: {'clf__learning_rate': 10, 'clf__max_depth': 1, 'clf__n_estimators': 5}\n",
            "0.144967 (0.014699) with: {'clf__learning_rate': 10, 'clf__max_depth': 1, 'clf__n_estimators': 50}\n",
            "0.144967 (0.014699) with: {'clf__learning_rate': 10, 'clf__max_depth': 1, 'clf__n_estimators': 250}\n",
            "0.144967 (0.014699) with: {'clf__learning_rate': 10, 'clf__max_depth': 1, 'clf__n_estimators': 500}\n",
            "0.380559 (0.025278) with: {'clf__learning_rate': 10, 'clf__max_depth': 3, 'clf__n_estimators': 5}\n",
            "0.380559 (0.025278) with: {'clf__learning_rate': 10, 'clf__max_depth': 3, 'clf__n_estimators': 50}\n",
            "0.380559 (0.025278) with: {'clf__learning_rate': 10, 'clf__max_depth': 3, 'clf__n_estimators': 250}\n",
            "0.380559 (0.025278) with: {'clf__learning_rate': 10, 'clf__max_depth': 3, 'clf__n_estimators': 500}\n",
            "0.582824 (0.153109) with: {'clf__learning_rate': 10, 'clf__max_depth': 5, 'clf__n_estimators': 5}\n",
            "0.577801 (0.152420) with: {'clf__learning_rate': 10, 'clf__max_depth': 5, 'clf__n_estimators': 50}\n",
            "0.570893 (0.141583) with: {'clf__learning_rate': 10, 'clf__max_depth': 5, 'clf__n_estimators': 250}\n",
            "0.577485 (0.152595) with: {'clf__learning_rate': 10, 'clf__max_depth': 5, 'clf__n_estimators': 500}\n",
            "0.662336 (0.091739) with: {'clf__learning_rate': 10, 'clf__max_depth': 7, 'clf__n_estimators': 5}\n",
            "0.613358 (0.108584) with: {'clf__learning_rate': 10, 'clf__max_depth': 7, 'clf__n_estimators': 50}\n",
            "0.660596 (0.092573) with: {'clf__learning_rate': 10, 'clf__max_depth': 7, 'clf__n_estimators': 250}\n",
            "0.623397 (0.103682) with: {'clf__learning_rate': 10, 'clf__max_depth': 7, 'clf__n_estimators': 500}\n",
            "0.648514 (0.056238) with: {'clf__learning_rate': 10, 'clf__max_depth': 9, 'clf__n_estimators': 5}\n",
            "0.609707 (0.046262) with: {'clf__learning_rate': 10, 'clf__max_depth': 9, 'clf__n_estimators': 50}\n",
            "0.596207 (0.058680) with: {'clf__learning_rate': 10, 'clf__max_depth': 9, 'clf__n_estimators': 250}\n",
            "0.624322 (0.068103) with: {'clf__learning_rate': 10, 'clf__max_depth': 9, 'clf__n_estimators': 500}\n",
            "0.553635 (0.011238) with: {'clf__learning_rate': 100, 'clf__max_depth': 1, 'clf__n_estimators': 5}\n",
            "0.553635 (0.011238) with: {'clf__learning_rate': 100, 'clf__max_depth': 1, 'clf__n_estimators': 50}\n",
            "0.553635 (0.011238) with: {'clf__learning_rate': 100, 'clf__max_depth': 1, 'clf__n_estimators': 250}\n",
            "0.553635 (0.011238) with: {'clf__learning_rate': 100, 'clf__max_depth': 1, 'clf__n_estimators': 500}\n",
            "0.788763 (0.048356) with: {'clf__learning_rate': 100, 'clf__max_depth': 3, 'clf__n_estimators': 5}\n",
            "0.788763 (0.048356) with: {'clf__learning_rate': 100, 'clf__max_depth': 3, 'clf__n_estimators': 50}\n",
            "0.788763 (0.048356) with: {'clf__learning_rate': 100, 'clf__max_depth': 3, 'clf__n_estimators': 250}\n",
            "0.788763 (0.048356) with: {'clf__learning_rate': 100, 'clf__max_depth': 3, 'clf__n_estimators': 500}\n",
            "0.639257 (0.112316) with: {'clf__learning_rate': 100, 'clf__max_depth': 5, 'clf__n_estimators': 5}\n",
            "0.644754 (0.113948) with: {'clf__learning_rate': 100, 'clf__max_depth': 5, 'clf__n_estimators': 50}\n",
            "0.639257 (0.112316) with: {'clf__learning_rate': 100, 'clf__max_depth': 5, 'clf__n_estimators': 250}\n",
            "0.641929 (0.115025) with: {'clf__learning_rate': 100, 'clf__max_depth': 5, 'clf__n_estimators': 500}\n",
            "0.483283 (0.039347) with: {'clf__learning_rate': 100, 'clf__max_depth': 7, 'clf__n_estimators': 5}\n",
            "0.488148 (0.042383) with: {'clf__learning_rate': 100, 'clf__max_depth': 7, 'clf__n_estimators': 50}\n",
            "0.494584 (0.047596) with: {'clf__learning_rate': 100, 'clf__max_depth': 7, 'clf__n_estimators': 250}\n",
            "0.512011 (0.050552) with: {'clf__learning_rate': 100, 'clf__max_depth': 7, 'clf__n_estimators': 500}\n",
            "0.581604 (0.029498) with: {'clf__learning_rate': 100, 'clf__max_depth': 9, 'clf__n_estimators': 5}\n",
            "0.559442 (0.027272) with: {'clf__learning_rate': 100, 'clf__max_depth': 9, 'clf__n_estimators': 50}\n",
            "0.576734 (0.034234) with: {'clf__learning_rate': 100, 'clf__max_depth': 9, 'clf__n_estimators': 250}\n",
            "0.566359 (0.030332) with: {'clf__learning_rate': 100, 'clf__max_depth': 9, 'clf__n_estimators': 500}\n"
          ]
        }
      ],
      "source": [
        "model = GradientBoostingClassifier()\n",
        "\n",
        "grid_params = {\n",
        "    \"clf__n_estimators\":[5,50,250,500],\n",
        "    \"clf__max_depth\":[1,3,5,7,9],\n",
        "    \"clf__learning_rate\":[0.01,0.1,1,10,100]\n",
        "}\n",
        "\n",
        "scaler = RobustScaler()\n",
        "pipeline = Pipeline([\n",
        "    ('trans', ctransformer),\n",
        "    ('norm', scaler),\n",
        "    ('clf', model)\n",
        "])\n",
        "\n",
        "cv = KFold(n_splits=10, shuffle=True, random_state=seed)\n",
        "grid_search = GridSearchCV(estimator=pipeline, param_grid=grid_params, n_jobs=-1, cv=cv, scoring='accuracy',error_score=0)\n",
        "grid_result = grid_search.fit(X, y)\n",
        "# summarize results\n",
        "print(\"Best: %f using %s\" % (grid_result.best_score_, grid_result.best_params_))\n",
        "means = grid_result.cv_results_['mean_test_score']\n",
        "stds = grid_result.cv_results_['std_test_score']\n",
        "params = grid_result.cv_results_['params']\n",
        "for mean, stdev, param in zip(means, stds, params):\n",
        "    print(\"%f (%f) with: %r\" % (mean, stdev, param))"
      ]
    },
    {
      "cell_type": "code",
      "execution_count": null,
      "metadata": {
        "id": "IQ9_LZ3FGuWb"
      },
      "outputs": [],
      "source": [
        "from sklearn.preprocessing import PolynomialFeatures\n",
        "from keras.layers import Dropout"
      ]
    },
    {
      "cell_type": "code",
      "execution_count": null,
      "metadata": {
        "id": "M30PPWcEFimt"
      },
      "outputs": [],
      "source": [
        "def create_model_keras(optimizer='adam',\n",
        "                 dropout=0.1):\n",
        "    model = Sequential()\n",
        "    model.add(Dense(20,activation='relu'))\n",
        "    model.add(Dropout(dropout))\n",
        "    model.add(Dense(1,activation='sigmoid'))\n",
        "    model.compile(loss='binary_crossentropy',optimizer=optimizer,\n",
        "    metrics=['accuracy'])\n",
        "    return model"
      ]
    },
    {
      "cell_type": "code",
      "execution_count": null,
      "metadata": {
        "id": "P9QPbMc8Gc0M"
      },
      "outputs": [],
      "source": [
        "model =  KerasClassifier(build_fn=create_model, epochs=10, batch_size=5, verbose=0)\n",
        "\n",
        "nn_param_grid = {\n",
        "    'clf__epochs': [2, 3, 5, 10],\n",
        "    'clf__batch_size':[1, 3, 5]\n",
        "}\n",
        "\n",
        "scaler = RobustScaler()\n",
        "pipeline = Pipeline([\n",
        "    ('trans', ctransformer),\n",
        "    ('norm', scaler),\n",
        "    ('clf', model)\n",
        "])\n",
        "\n",
        "cv = KFold(n_splits=3, shuffle=True, random_state=seed)\n",
        "grid_search = GridSearchCV(estimator=pipeline, param_grid=nn_param_grid, n_jobs=-1, cv=cv, scoring='accuracy',error_score=0)\n",
        "grid_result = grid_search.fit(X, y)\n",
        "# summarize results\n",
        "print(\"Best: %f using %s\" % (grid_result.best_score_, grid_result.best_params_))\n",
        "means = grid_result.cv_results_['mean_test_score']\n",
        "stds = grid_result.cv_results_['std_test_score']\n",
        "params = grid_result.cv_results_['params']\n",
        "for mean, stdev, param in zip(means, stds, params):\n",
        "    print(\"%f (%f) with: %r\" % (mean, stdev, param))"
      ]
    },
    {
      "cell_type": "code",
      "execution_count": null,
      "metadata": {
        "id": "YlFKjJ_eGcfn"
      },
      "outputs": [],
      "source": [
        ""
      ]
    },
    {
      "cell_type": "code",
      "execution_count": null,
      "metadata": {
        "id": "hEhRPy9eFD75"
      },
      "outputs": [],
      "source": [
        "\n",
        "parameters = {\n",
        "    'xgb__max_depth': range (2, 10, 1),\n",
        "    'xgb__n_estimators': range(10, 220, 40),\n",
        "    'xgb__learning_rate': [0.1, 0.01, 0.05]\n",
        "}\n",
        "\n",
        "name, model = models[10]\n",
        "\n",
        "print(name)\n",
        "    \n",
        "scaler = RobustScaler()\n",
        "pipeline = Pipeline([\n",
        "    ('trans', ctransformer),\n",
        "    ('norm', scaler),\n",
        "    ('xgb', XGBClassifier())\n",
        "])\n",
        "\n",
        "# pipeline = make_pipeline(ctransformer,scaler, XGBClassifier())\n",
        "\n",
        "cv_technique = KFold(n_splits=10, shuffle=True, random_state=seed)\n",
        "\n",
        "# GridSearchCV(pipeline, param_grid, scoring=\"neg_log_loss\", n_jobs=-1, cv=kfold)\n",
        "search = GridSearchCV(pipeline, param_grid=parameters, \n",
        "                       cv=cv_technique, scoring='accuracy')\n",
        "search.fit(X,y)\n"
      ]
    },
    {
      "cell_type": "code",
      "execution_count": null,
      "metadata": {
        "id": "jad-bUgyVtgG"
      },
      "outputs": [],
      "source": [
        "model = XG\n",
        "\n",
        "nn_param_grid = {\n",
        "    'clf__epochs': [2, 3, 5, 10],\n",
        "    'clf__batch_size':[1, 3, 5]\n",
        "}\n",
        "\n",
        "scaler = RobustScaler()\n",
        "pipeline = Pipeline([\n",
        "    ('trans', ctransformer),\n",
        "    ('norm', scaler),\n",
        "    ('xgb', XGBClassifier())\n",
        "])\n",
        "\n",
        "cv = KFold(n_splits=3, shuffle=True, random_state=seed)\n",
        "grid_search = GridSearchCV(estimator=pipeline, param_grid=nn_param_grid, n_jobs=-1, cv=cv, scoring='accuracy',error_score=0)\n",
        "grid_result = grid_search.fit(X, y)\n",
        "# summarize results\n",
        "print(\"Best: %f using %s\" % (grid_result.best_score_, grid_result.best_params_))\n",
        "means = grid_result.cv_results_['mean_test_score']\n",
        "stds = grid_result.cv_results_['std_test_score']\n",
        "params = grid_result.cv_results_['params']\n",
        "for mean, stdev, param in zip(means, stds, params):\n",
        "    print(\"%f (%f) with: %r\" % (mean, stdev, param))"
      ]
    },
    {
      "cell_type": "code",
      "execution_count": null,
      "metadata": {
        "id": "HHRQz4dJpbHJ"
      },
      "outputs": [],
      "source": [
        "\n",
        "print(search.best_score_)\n",
        "print(search.best_estimator_)"
      ]
    },
    {
      "cell_type": "code",
      "execution_count": null,
      "metadata": {
        "id": "yv75C9BA_Y-k"
      },
      "outputs": [],
      "source": [
        "\n",
        "parametros = {\n",
        "    'criterion': ['gini', 'entropy'],\n",
        "    'max_depth': [3, 6, 12, 24, 48], \n",
        "    'max_features': ['auto', 'sqrt', 'log2'],\n",
        "    'min_samples_split': [2, 3]\n",
        "}\n",
        "\n",
        "model = DecisionTreeClassifier(random_state=seed)\n",
        "\n",
        "scaler = RobustScaler()\n",
        "pipeline = make_pipeline(ctransformer, model)\n",
        "\n",
        "cv_technique = KFold(n_splits=10, shuffle=True, random_state=seed)\n",
        "cv_results = cross_val_score(pipeline, X=X, y=y, cv=cv_technique, scoring='accuracy', n_jobs=-1, error_score='raise')\n",
        "\n",
        "pipeline.fit(X,y);\n",
        "resultado = pipeline.score(X, y)\n",
        "if hasattr(model, 'feature_importances_'):\n",
        "  importants.append(pd.DataFrame({'feature':list(pipeline[:-1].get_feature_names_out()),'feature_importance':[abs(i) for i in model.feature_importances_]}))\n",
        "if hasattr(model, 'coef_'):\n",
        "  importants.append(pd.DataFrame({'feature':list(pipeline[:-1].get_feature_names_out()),'feature_importance':[abs(i) for i in model.coef_[0]]}))\n",
        "\n",
        "y_pred = pipeline.predict(X)\n",
        "cm = confusion_matrix(y, y_pred)\n",
        "\n",
        "gsearch = GridSearchCV(pipeline, param_grid=parametros, \n",
        "                       cv=cv_technique, scoring='accuracy')"
      ]
    },
    {
      "cell_type": "code",
      "execution_count": null,
      "metadata": {
        "id": "qmsRrOctBcRg"
      },
      "outputs": [],
      "source": [
        "cm"
      ]
    },
    {
      "cell_type": "code",
      "execution_count": null,
      "metadata": {
        "id": "0g_bVEm8BaIc"
      },
      "outputs": [],
      "source": [
        "y_pred"
      ]
    },
    {
      "cell_type": "code",
      "execution_count": null,
      "metadata": {
        "id": "I22nBAwAvP1O"
      },
      "outputs": [],
      "source": [
        "\n",
        "gsearch.fit(X,y)"
      ]
    },
    {
      "cell_type": "code",
      "execution_count": null,
      "metadata": {
        "id": "x0qL-00NvSkH"
      },
      "outputs": [],
      "source": [
        ""
      ]
    }
  ],
  "metadata": {
    "colab": {
      "collapsed_sections": [],
      "name": "Bombas.ipynb",
      "provenance": [],
      "include_colab_link": true
    },
    "interpreter": {
      "hash": "369f2c481f4da34e4445cda3fffd2e751bd1c4d706f27375911949ba6bb62e1c"
    },
    "kernelspec": {
      "display_name": "Python 3.10.1 64-bit",
      "language": "python",
      "name": "python3"
    },
    "language_info": {
      "codemirror_mode": {
        "name": "ipython",
        "version": 3
      },
      "file_extension": ".py",
      "mimetype": "text/x-python",
      "name": "python",
      "nbconvert_exporter": "python",
      "pygments_lexer": "ipython3",
      "version": "3.10.1"
    }
  },
  "nbformat": 4,
  "nbformat_minor": 0
}